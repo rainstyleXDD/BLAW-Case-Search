{
 "cells": [
  {
   "cell_type": "code",
   "execution_count": 1,
   "metadata": {},
   "outputs": [],
   "source": [
    "import pandas as pd\n",
    "import numpy as np\n",
    "import string"
   ]
  },
  {
   "cell_type": "code",
   "execution_count": 2,
   "metadata": {},
   "outputs": [],
   "source": [
    "df = pd.read_csv(\"cases.csv\", encoding='latin-1')"
   ]
  },
  {
   "cell_type": "code",
   "execution_count": 3,
   "metadata": {},
   "outputs": [],
   "source": [
    "def encodeDecode(df):\n",
    "    for i in range(df.shape[0]):\n",
    "        for j in range(df.shape[1]):\n",
    "            if isinstance(df.iloc[i, j], str):\n",
    "                df.iloc[i, j] = df.iloc[i, j].encode('ascii', 'ignore').decode(\"utf-8\")\n",
    "                \n",
    "                "
   ]
  },
  {
   "cell_type": "code",
   "execution_count": 4,
   "metadata": {},
   "outputs": [],
   "source": [
    "encodeDecode(df)"
   ]
  },
  {
   "cell_type": "code",
   "execution_count": 5,
   "metadata": {},
   "outputs": [
    {
     "data": {
      "text/plain": [
       "False"
      ]
     },
     "execution_count": 5,
     "metadata": {},
     "output_type": "execute_result"
    }
   ],
   "source": [
    "not np.isnan(df.iloc[0,6])"
   ]
  },
  {
   "cell_type": "code",
   "execution_count": 6,
   "metadata": {},
   "outputs": [],
   "source": [
    "for i in df.index:\n",
    "    if df.iloc[i,0].isupper() :\n",
    "        df.iloc[i,0] = df.iloc[i,0].lower()"
   ]
  },
  {
   "cell_type": "code",
   "execution_count": 7,
   "metadata": {},
   "outputs": [],
   "source": [
    "for i in df.index:\n",
    "    if isinstance(df.iloc[i,6], str) and df.iloc[i,6].isupper() :\n",
    "        df.iloc[i,6] = df.iloc[i,6].lower()"
   ]
  },
  {
   "cell_type": "code",
   "execution_count": 8,
   "metadata": {},
   "outputs": [],
   "source": [
    "def printCase(case):\n",
    "    for i in case.index:\n",
    "        print(i.upper()+\": \")\n",
    "        if isinstance(case[i], str) :\n",
    "            for point in case[i].split(\".\"):\n",
    "                print(point.strip())\n",
    "        else:\n",
    "            print(case[i])\n",
    "        print(\" \")"
   ]
  },
  {
   "cell_type": "code",
   "execution_count": 9,
   "metadata": {},
   "outputs": [],
   "source": [
    "def printCases(df):\n",
    "    for i in df.index:\n",
    "        printCase(df.iloc[i,:])\n",
    "        print(\"-\"*70)"
   ]
  },
  {
   "cell_type": "code",
   "execution_count": 10,
   "metadata": {},
   "outputs": [],
   "source": [
    "def searchCases(cases, case, by = \"name\"):\n",
    "    \n",
    "    for index, value in cases.iterrows():\n",
    "        if by == \"name\" and case.lower() in value[\"name\"].lower():\n",
    "            printCase(value)\n",
    "            print(\"-\"*70)\n",
    "        elif by == \"description\" and type(value[\"description\"]) == str and case.lower() in value[\"description\"].lower():\n",
    "            printCase(value)\n",
    "            print(\"-\"*70)\n",
    "        "
   ]
  },
  {
   "cell_type": "code",
   "execution_count": 11,
   "metadata": {},
   "outputs": [
    {
     "data": {
      "text/html": [
       "<div>\n",
       "<style scoped>\n",
       "    .dataframe tbody tr th:only-of-type {\n",
       "        vertical-align: middle;\n",
       "    }\n",
       "\n",
       "    .dataframe tbody tr th {\n",
       "        vertical-align: top;\n",
       "    }\n",
       "\n",
       "    .dataframe thead th {\n",
       "        text-align: right;\n",
       "    }\n",
       "</style>\n",
       "<table border=\"1\" class=\"dataframe\">\n",
       "  <thead>\n",
       "    <tr style=\"text-align: right;\">\n",
       "      <th></th>\n",
       "      <th>name</th>\n",
       "      <th>fact</th>\n",
       "      <th>issue</th>\n",
       "      <th>decision</th>\n",
       "      <th>reason</th>\n",
       "      <th>year</th>\n",
       "      <th>description</th>\n",
       "    </tr>\n",
       "  </thead>\n",
       "  <tbody>\n",
       "    <tr>\n",
       "      <th>0</th>\n",
       "      <td>Balfour v Balfour (1919) 2 KB 571</td>\n",
       "      <td>Plaintiff alleged husband promised to pay 30 p...</td>\n",
       "      <td>Later they separated and divorced.</td>\n",
       "      <td>Judge decided in favour of plaintiff, defendan...</td>\n",
       "      <td>When married persons enter into domestic agree...</td>\n",
       "      <td>1919.0</td>\n",
       "      <td>NaN</td>\n",
       "    </tr>\n",
       "    <tr>\n",
       "      <th>1</th>\n",
       "      <td>Cohen v Cohen (1929) 42 CLR 91</td>\n",
       "      <td>Plaintiff alleged defendant promised to pay he...</td>\n",
       "      <td>They separated.</td>\n",
       "      <td>Same ratio decidendi as above, binding on Aust...</td>\n",
       "      <td>Same ratio decidendi as above, binding on Aust...</td>\n",
       "      <td>1929.0</td>\n",
       "      <td>NaN</td>\n",
       "    </tr>\n",
       "    <tr>\n",
       "      <th>2</th>\n",
       "      <td>Merritt v Merritt (1970) 2 All ER 760</td>\n",
       "      <td>Husband and wife married, got a building plot ...</td>\n",
       "      <td>NaN</td>\n",
       "      <td>when married persons whose relationship has al...</td>\n",
       "      <td>MerrittOs case does not mean that Balfour and ...</td>\n",
       "      <td>1970.0</td>\n",
       "      <td>NaN</td>\n",
       "    </tr>\n",
       "    <tr>\n",
       "      <th>3</th>\n",
       "      <td>scarborough v sturzaker</td>\n",
       "      <td>Scarborough purchased a bicycle from Sturzaker...</td>\n",
       "      <td>given Scarborough already owned a bike (the on...</td>\n",
       "      <td>The contract was legally binding.</td>\n",
       "      <td>Given the distance Scarborough lived from his ...</td>\n",
       "      <td>1905.0</td>\n",
       "      <td>Minors may be bound to pay a reasonable price ...</td>\n",
       "    </tr>\n",
       "    <tr>\n",
       "      <th>4</th>\n",
       "      <td>hamilton v lethbridge</td>\n",
       "      <td>L (a minor) entered into a five year contract,...</td>\n",
       "      <td>Was the contract legally binding?  Was the con...</td>\n",
       "      <td>The contract was legally binding</td>\n",
       "      <td>Although some stipulations in the contract ben...</td>\n",
       "      <td>1912.0</td>\n",
       "      <td>Beneficial can also be enforced against a minor.</td>\n",
       "    </tr>\n",
       "    <tr>\n",
       "      <th>...</th>\n",
       "      <td>...</td>\n",
       "      <td>...</td>\n",
       "      <td>...</td>\n",
       "      <td>...</td>\n",
       "      <td>...</td>\n",
       "      <td>...</td>\n",
       "      <td>...</td>\n",
       "    </tr>\n",
       "    <tr>\n",
       "      <th>97</th>\n",
       "      <td>essington investments pty ltd v regency proper...</td>\n",
       "      <td>Mr Drummond was appointed as Rs agent to negot...</td>\n",
       "      <td>Was R bound by the unauthorised handwritten al...</td>\n",
       "      <td>R was not bound by the contract</td>\n",
       "      <td>Mr Drummond did not have actual authority to a...</td>\n",
       "      <td>NaN</td>\n",
       "      <td>apparent authority</td>\n",
       "    </tr>\n",
       "    <tr>\n",
       "      <th>98</th>\n",
       "      <td>john d wood &amp; co v knatchbull</td>\n",
       "      <td>JW was appointed to act as Ks agent (to sell K...</td>\n",
       "      <td>NaN</td>\n",
       "      <td>JW breached its duty to communicate relevant i...</td>\n",
       "      <td>NaN</td>\n",
       "      <td>2002.0</td>\n",
       "      <td>duty to communicate relevant information</td>\n",
       "    </tr>\n",
       "    <tr>\n",
       "      <th>99</th>\n",
       "      <td>provincial insurance aust v consolidated wood ...</td>\n",
       "      <td>CWP appointed PI as its insurance broker.PI wa...</td>\n",
       "      <td>Could CWP recover the loss from PI</td>\n",
       "      <td>CWP could recover the loss from PI</td>\n",
       "      <td>PI owed CWP a duty of care, as the parties wer...</td>\n",
       "      <td>1991.0</td>\n",
       "      <td>duty to carry out tasks with due care and skill</td>\n",
       "    </tr>\n",
       "    <tr>\n",
       "      <th>100</th>\n",
       "      <td>Hide &amp; Skin Trading Pty Ltd v Oceanic Meat Tra...</td>\n",
       "      <td>Hide &amp; Skin (H&amp;S) were exporters of animal pro...</td>\n",
       "      <td>Whose interpretation of the agreement was corr...</td>\n",
       "      <td>The agreement had the meaning suggested by H&amp;S.</td>\n",
       "      <td>Although interpreting the agreement in the way...</td>\n",
       "      <td>1990.0</td>\n",
       "      <td>interpretation of terms</td>\n",
       "    </tr>\n",
       "    <tr>\n",
       "      <th>101</th>\n",
       "      <td>Australian Broadcasting Commission v Australas...</td>\n",
       "      <td>The Australian Broadcasting Commission (ABC) b...</td>\n",
       "      <td>Was it open to the court to interpret the form...</td>\n",
       "      <td>It is not the function of a court to attribute...</td>\n",
       "      <td>The words in which the formula was expressed w...</td>\n",
       "      <td>1973.0</td>\n",
       "      <td>interpretation of terms</td>\n",
       "    </tr>\n",
       "  </tbody>\n",
       "</table>\n",
       "<p>102 rows × 7 columns</p>\n",
       "</div>"
      ],
      "text/plain": [
       "                                                  name  \\\n",
       "0                    Balfour v Balfour (1919) 2 KB 571   \n",
       "1                       Cohen v Cohen (1929) 42 CLR 91   \n",
       "2                Merritt v Merritt (1970) 2 All ER 760   \n",
       "3                              scarborough v sturzaker   \n",
       "4                                hamilton v lethbridge   \n",
       "..                                                 ...   \n",
       "97   essington investments pty ltd v regency proper...   \n",
       "98                       john d wood & co v knatchbull   \n",
       "99   provincial insurance aust v consolidated wood ...   \n",
       "100  Hide & Skin Trading Pty Ltd v Oceanic Meat Tra...   \n",
       "101  Australian Broadcasting Commission v Australas...   \n",
       "\n",
       "                                                  fact  \\\n",
       "0    Plaintiff alleged husband promised to pay 30 p...   \n",
       "1    Plaintiff alleged defendant promised to pay he...   \n",
       "2    Husband and wife married, got a building plot ...   \n",
       "3    Scarborough purchased a bicycle from Sturzaker...   \n",
       "4    L (a minor) entered into a five year contract,...   \n",
       "..                                                 ...   \n",
       "97   Mr Drummond was appointed as Rs agent to negot...   \n",
       "98   JW was appointed to act as Ks agent (to sell K...   \n",
       "99   CWP appointed PI as its insurance broker.PI wa...   \n",
       "100  Hide & Skin (H&S) were exporters of animal pro...   \n",
       "101  The Australian Broadcasting Commission (ABC) b...   \n",
       "\n",
       "                                                 issue  \\\n",
       "0                   Later they separated and divorced.   \n",
       "1                                      They separated.   \n",
       "2                                                  NaN   \n",
       "3    given Scarborough already owned a bike (the on...   \n",
       "4    Was the contract legally binding?  Was the con...   \n",
       "..                                                 ...   \n",
       "97   Was R bound by the unauthorised handwritten al...   \n",
       "98                                                 NaN   \n",
       "99                  Could CWP recover the loss from PI   \n",
       "100  Whose interpretation of the agreement was corr...   \n",
       "101  Was it open to the court to interpret the form...   \n",
       "\n",
       "                                              decision  \\\n",
       "0    Judge decided in favour of plaintiff, defendan...   \n",
       "1    Same ratio decidendi as above, binding on Aust...   \n",
       "2    when married persons whose relationship has al...   \n",
       "3                    The contract was legally binding.   \n",
       "4                     The contract was legally binding   \n",
       "..                                                 ...   \n",
       "97                     R was not bound by the contract   \n",
       "98   JW breached its duty to communicate relevant i...   \n",
       "99                  CWP could recover the loss from PI   \n",
       "100    The agreement had the meaning suggested by H&S.   \n",
       "101  It is not the function of a court to attribute...   \n",
       "\n",
       "                                                reason    year  \\\n",
       "0    When married persons enter into domestic agree...  1919.0   \n",
       "1    Same ratio decidendi as above, binding on Aust...  1929.0   \n",
       "2    MerrittOs case does not mean that Balfour and ...  1970.0   \n",
       "3    Given the distance Scarborough lived from his ...  1905.0   \n",
       "4    Although some stipulations in the contract ben...  1912.0   \n",
       "..                                                 ...     ...   \n",
       "97   Mr Drummond did not have actual authority to a...     NaN   \n",
       "98                                                 NaN  2002.0   \n",
       "99   PI owed CWP a duty of care, as the parties wer...  1991.0   \n",
       "100  Although interpreting the agreement in the way...  1990.0   \n",
       "101  The words in which the formula was expressed w...  1973.0   \n",
       "\n",
       "                                           description  \n",
       "0                                                  NaN  \n",
       "1                                                  NaN  \n",
       "2                                                  NaN  \n",
       "3    Minors may be bound to pay a reasonable price ...  \n",
       "4     Beneficial can also be enforced against a minor.  \n",
       "..                                                 ...  \n",
       "97                                  apparent authority  \n",
       "98            duty to communicate relevant information  \n",
       "99     duty to carry out tasks with due care and skill  \n",
       "100                            interpretation of terms  \n",
       "101                            interpretation of terms  \n",
       "\n",
       "[102 rows x 7 columns]"
      ]
     },
     "execution_count": 11,
     "metadata": {},
     "output_type": "execute_result"
    }
   ],
   "source": [
    "df"
   ]
  },
  {
   "cell_type": "code",
   "execution_count": null,
   "metadata": {},
   "outputs": [],
   "source": [
    "def addCase(df, name, fact, issue, decision, reason, year, description):\n",
    "    df\n",
    "    "
   ]
  },
  {
   "cell_type": "code",
   "execution_count": 12,
   "metadata": {},
   "outputs": [
    {
     "data": {
      "text/plain": [
       "(102, 7)"
      ]
     },
     "execution_count": 12,
     "metadata": {},
     "output_type": "execute_result"
    }
   ],
   "source": [
    "df.shape"
   ]
  },
  {
   "cell_type": "code",
   "execution_count": 13,
   "metadata": {
    "scrolled": false
   },
   "outputs": [
    {
     "name": "stdout",
     "output_type": "stream",
     "text": [
      "NAME: \n",
      "taylor v johnson\n",
      " \n",
      "FACT: \n",
      "J entered into a contract with T for the sale of 10 acres of Js land\n",
      "The price stated in the contract was $15,000\n",
      "J believed that the contract price was $15,000 per acre\n",
      "J refused to complete the sale\n",
      "There was evidence that T deliberately set out to ensure that J did not become aware of the mistake\n",
      "For example, he claimed to have lost his copy of the option when she asked to view it\n",
      "He also refrained from mentioning price again\n",
      "\n",
      " \n",
      "ISSUE: \n",
      "Did Js mistake allow her to set aside the contract?\n",
      " \n",
      "DECISION: \n",
      "The contract was set aside on the basis of unilateral mistake\n",
      " \n",
      "REASON: \n",
      "T was aware of circumstances that indicated Js mistake and deliberately set about concealing the mistake from J\n",
      " \n",
      "YEAR: \n",
      "1983.0\n",
      " \n",
      "DESCRIPTION: \n",
      "unilateral mistake\n",
      " \n",
      "----------------------------------------------------------------------\n"
     ]
    }
   ],
   "source": [
    "searchCases(df, \"taylor\")"
   ]
  },
  {
   "cell_type": "code",
   "execution_count": null,
   "metadata": {},
   "outputs": [],
   "source": []
  }
 ],
 "metadata": {
  "kernelspec": {
   "display_name": "Python 3",
   "language": "python",
   "name": "python3"
  },
  "language_info": {
   "codemirror_mode": {
    "name": "ipython",
    "version": 3
   },
   "file_extension": ".py",
   "mimetype": "text/x-python",
   "name": "python",
   "nbconvert_exporter": "python",
   "pygments_lexer": "ipython3",
   "version": "3.8.5"
  }
 },
 "nbformat": 4,
 "nbformat_minor": 2
}
