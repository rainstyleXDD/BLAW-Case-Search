{
 "cells": [
  {
   "cell_type": "code",
   "execution_count": 1,
   "metadata": {},
   "outputs": [],
   "source": [
    "import pandas as pd\n",
    "import numpy as np\n",
    "import string"
   ]
  },
  {
   "cell_type": "code",
   "execution_count": 2,
   "metadata": {},
   "outputs": [],
   "source": [
    "df = pd.read_csv(\"cases.csv\", encoding='latin-1')"
   ]
  },
  {
   "cell_type": "code",
   "execution_count": 3,
   "metadata": {},
   "outputs": [],
   "source": [
    "def encodeDecode(df):\n",
    "    for i in range(df.shape[0]):\n",
    "        for j in range(df.shape[1]):\n",
    "            if isinstance(df.iloc[i, j], str):\n",
    "                df.iloc[i, j] = df.iloc[i, j].encode('ascii', 'ignore').decode(\"utf-8\")\n",
    "                \n",
    "                "
   ]
  },
  {
   "cell_type": "code",
   "execution_count": 4,
   "metadata": {},
   "outputs": [],
   "source": [
    "encodeDecode(df)"
   ]
  },
  {
   "cell_type": "code",
   "execution_count": 5,
   "metadata": {},
   "outputs": [
    {
     "data": {
      "text/plain": [
       "False"
      ]
     },
     "execution_count": 5,
     "metadata": {},
     "output_type": "execute_result"
    }
   ],
   "source": [
    "not np.isnan(df.iloc[0,6])"
   ]
  },
  {
   "cell_type": "code",
   "execution_count": 6,
   "metadata": {},
   "outputs": [],
   "source": [
    "for i in df.index:\n",
    "    if df.iloc[i,0].isupper() :\n",
    "        df.iloc[i,0] = df.iloc[i,0].lower()"
   ]
  },
  {
   "cell_type": "code",
   "execution_count": 7,
   "metadata": {},
   "outputs": [],
   "source": [
    "for i in df.index:\n",
    "    if isinstance(df.iloc[i,6], str) and df.iloc[i,6].isupper() :\n",
    "        df.iloc[i,6] = df.iloc[i,6].lower()"
   ]
  },
  {
   "cell_type": "code",
   "execution_count": 8,
   "metadata": {},
   "outputs": [],
   "source": [
    "def printCase(case):\n",
    "    for i in case.index:\n",
    "        print(i.upper()+\": \")\n",
    "        if isinstance(case[i], str) :\n",
    "            for point in case[i].split(\".\"):\n",
    "                print(point.strip())\n",
    "        else:\n",
    "            print(case[i])\n",
    "        print(\" \")"
   ]
  },
  {
   "cell_type": "code",
   "execution_count": 9,
   "metadata": {},
   "outputs": [],
   "source": [
    "def printCases(df):\n",
    "    for i in df.index:\n",
    "        printCase(df.iloc[i,:])\n",
    "        print(\"-\"*70)"
   ]
  },
  {
   "cell_type": "code",
   "execution_count": 10,
   "metadata": {},
   "outputs": [],
   "source": [
    "def searchCases(cases, case, by = \"name\"):\n",
    "    \n",
    "    for index, value in cases.iterrows():\n",
    "        if by == \"name\" and case.lower() in value[\"name\"].lower():\n",
    "            printCase(value)\n",
    "            print(\"-\"*70)\n",
    "        elif by == \"description\" and type(value[\"description\"]) == str and case.lower() in value[\"description\"].lower():\n",
    "            printCase(value)\n",
    "            print(\"-\"*70)\n",
    "        "
   ]
  },
  {
   "cell_type": "code",
   "execution_count": 12,
   "metadata": {},
   "outputs": [
    {
     "data": {
      "text/plain": [
       "(102, 7)"
      ]
     },
     "execution_count": 12,
     "metadata": {},
     "output_type": "execute_result"
    }
   ],
   "source": [
    "df.shape"
   ]
  },
  {
   "cell_type": "code",
   "execution_count": 13,
   "metadata": {
    "scrolled": false
   },
   "outputs": [
    {
     "name": "stdout",
     "output_type": "stream",
     "text": [
      "NAME: \n",
      "taylor v johnson\n",
      " \n",
      "FACT: \n",
      "J entered into a contract with T for the sale of 10 acres of Js land\n",
      "The price stated in the contract was $15,000\n",
      "J believed that the contract price was $15,000 per acre\n",
      "J refused to complete the sale\n",
      "There was evidence that T deliberately set out to ensure that J did not become aware of the mistake\n",
      "For example, he claimed to have lost his copy of the option when she asked to view it\n",
      "He also refrained from mentioning price again\n",
      "\n",
      " \n",
      "ISSUE: \n",
      "Did Js mistake allow her to set aside the contract?\n",
      " \n",
      "DECISION: \n",
      "The contract was set aside on the basis of unilateral mistake\n",
      " \n",
      "REASON: \n",
      "T was aware of circumstances that indicated Js mistake and deliberately set about concealing the mistake from J\n",
      " \n",
      "YEAR: \n",
      "1983.0\n",
      " \n",
      "DESCRIPTION: \n",
      "unilateral mistake\n",
      " \n",
      "----------------------------------------------------------------------\n"
     ]
    }
   ],
   "source": [
    "searchCases(df, \"taylor\")"
   ]
  },
  {
   "cell_type": "code",
   "execution_count": null,
   "metadata": {},
   "outputs": [],
   "source": []
  }
 ],
 "metadata": {
  "kernelspec": {
   "display_name": "Python 3",
   "language": "python",
   "name": "python3"
  },
  "language_info": {
   "codemirror_mode": {
    "name": "ipython",
    "version": 3
   },
   "file_extension": ".py",
   "mimetype": "text/x-python",
   "name": "python",
   "nbconvert_exporter": "python",
   "pygments_lexer": "ipython3",
   "version": "3.7.3"
  }
 },
 "nbformat": 4,
 "nbformat_minor": 2
}
